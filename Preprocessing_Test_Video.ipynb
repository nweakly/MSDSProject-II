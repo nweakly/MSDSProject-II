{
 "cells": [
  {
   "cell_type": "markdown",
   "metadata": {},
   "source": [
    "# MSDS696 Project II: Object Detection in Home Video Sercurity Systems\n",
    "# Preprocessing Data\n",
    "## Natalia Weakly\n",
    "## Test Video files (non-Ring)"
   ]
  },
  {
   "cell_type": "code",
   "execution_count": 2,
   "metadata": {},
   "outputs": [],
   "source": [
    "#Imports\n",
    "import os\n",
    "from moviepy.editor import *"
   ]
  },
  {
   "cell_type": "code",
   "execution_count": 25,
   "metadata": {},
   "outputs": [],
   "source": [
    "# This video file transformations depend on the content of the raw data file and \n",
    "# might require manual changes within this function\n",
    "\n",
    "def video_preprocess(file):\n",
    "    \"\"\"receives an mp4 file name, loads the file as a \n",
    "    moviepy video clip, cuts out from t_start tp t_end, discards the audio and saves\n",
    "    the output in a \"./Data/Processed/\"  directory as 'edited_filname.mp4'\n",
    "    \"\"\"\n",
    "    #Adjust t_start and t_end to cut meaningful parts of the videos\n",
    "    clip=VideoFileClip(join(path_raw, file)).subclip(t_start=10, t_end=20)\n",
    "    # Rotate, if necessary (angle = 90, 180, -90, -180)\n",
    "    moviepy.video.fx.all(clip, -90, unit='deg', resample='bicubic', expand=True)\n",
    "    # decrease size to 640px width\n",
    "    clip=clip.resize(width=640)\n",
    "    new_filename=\"edited_\"+file\n",
    "    #write the result to a file\n",
    "    clip.write_videofile(join(path_processed,new_filename), audio=False) # do not render audio\n",
    "    clip.reader.close() #to avoid ffmpeg ghost processes when running on Windows\n",
    "    if clip.audio and clip.audio.reader:\n",
    "        clip.audio.reader.close_proc()"
   ]
  },
  {
   "cell_type": "code",
   "execution_count": 26,
   "metadata": {},
   "outputs": [],
   "source": [
    "currentpath=os.getcwd() #current working directory\n",
    "path_raw=currentpath + \"\\\\Data\\\\Raw\" #path to the raw video files\n",
    "path_processed=currentpath +\"\\\\Data\\\\Processed\" #path to the processd video files folder"
   ]
  },
  {
   "cell_type": "code",
   "execution_count": 27,
   "metadata": {},
   "outputs": [
    {
     "data": {
      "text/plain": [
       "1"
      ]
     },
     "execution_count": 27,
     "metadata": {},
     "output_type": "execute_result"
    }
   ],
   "source": [
    "# Make a list of all raw video files\n",
    "from os import listdir\n",
    "from os.path import isfile, join\n",
    "list_videos=[f for f in listdir(path_raw) if isfile(join(path_raw, f))]\n",
    "#number of raw video files found\n",
    "len(list_videos)"
   ]
  },
  {
   "cell_type": "code",
   "execution_count": 4,
   "metadata": {},
   "outputs": [],
   "source": [
    "#call video_preprocess function for all files in the Raw folder\n",
    "for file in list_videos:\n",
    "    video_preprocess(file)    "
   ]
  },
  {
   "cell_type": "code",
   "execution_count": null,
   "metadata": {},
   "outputs": [],
   "source": []
  }
 ],
 "metadata": {
  "kernelspec": {
   "display_name": "Python 3",
   "language": "python",
   "name": "python3"
  },
  "language_info": {
   "codemirror_mode": {
    "name": "ipython",
    "version": 3
   },
   "file_extension": ".py",
   "mimetype": "text/x-python",
   "name": "python",
   "nbconvert_exporter": "python",
   "pygments_lexer": "ipython3",
   "version": "3.6.5"
  }
 },
 "nbformat": 4,
 "nbformat_minor": 2
}
